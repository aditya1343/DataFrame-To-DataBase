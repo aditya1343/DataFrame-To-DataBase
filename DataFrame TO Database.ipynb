{
  "nbformat": 4,
  "nbformat_minor": 0,
  "metadata": {
    "colab": {
      "name": "Copy of Untitled8.ipynb",
      "provenance": []
    },
    "kernelspec": {
      "name": "python3",
      "display_name": "Python 3"
    },
    "language_info": {
      "name": "python"
    }
  },
  "cells": [
    {
      "cell_type": "markdown",
      "source": [
        "Importing Required Libraries"
      ],
      "metadata": {
        "id": "zXLCzIBmJVmO"
      }
    },
    {
      "cell_type": "code",
      "execution_count": null,
      "metadata": {
        "id": "XmxVpeXukO-o"
      },
      "outputs": [],
      "source": [
        "import sqlite3\n",
        "import pandas as pd"
      ]
    },
    {
      "cell_type": "markdown",
      "source": [
        "Reading CSV File"
      ],
      "metadata": {
        "id": "dld5FaYJJgiS"
      }
    },
    {
      "cell_type": "code",
      "source": [
        "df=pd.read_csv(\"mid1.csv\")"
      ],
      "metadata": {
        "id": "ZyfoysfdkU1n"
      },
      "execution_count": null,
      "outputs": []
    },
    {
      "cell_type": "markdown",
      "source": [
        "Getting connection to the database\n"
      ],
      "metadata": {
        "id": "e8I3IBJcJmvD"
      }
    },
    {
      "cell_type": "code",
      "source": [
        "conn = sqlite3.connect('test_database')\n",
        "c = conn.cursor()"
      ],
      "metadata": {
        "id": "re9PfgT_koMS"
      },
      "execution_count": null,
      "outputs": []
    },
    {
      "cell_type": "markdown",
      "source": [
        "Creating Table in the DataBase"
      ],
      "metadata": {
        "id": "OjUNvnHNJyas"
      }
    },
    {
      "cell_type": "code",
      "source": [
        "c.execute('CREATE TABLE IF NOT EXISTS mid1(Roll No,CS1,DS,DM,PS,Python,Java) ')"
      ],
      "metadata": {
        "id": "q9zjGgXKk43A",
        "colab": {
          "base_uri": "https://localhost:8080/"
        },
        "outputId": "677b2f82-7b25-4d9b-d402-397faf53278c"
      },
      "execution_count": null,
      "outputs": [
        {
          "output_type": "execute_result",
          "data": {
            "text/plain": [
              "<sqlite3.Cursor at 0x7ff1c6ad10a0>"
            ]
          },
          "metadata": {},
          "execution_count": 65
        }
      ]
    },
    {
      "cell_type": "markdown",
      "source": [
        "Adding a new Column in the table"
      ],
      "metadata": {
        "id": "JOxHtnWgJ6As"
      }
    },
    {
      "cell_type": "code",
      "source": [
        "c.execute('ALTER TABLE mid1 ADD Total_Marks number(3)')"
      ],
      "metadata": {
        "colab": {
          "base_uri": "https://localhost:8080/"
        },
        "id": "B3SpRmNe_Bhy",
        "outputId": "600e92b9-66ce-4a95-bf80-315b31cb5a38"
      },
      "execution_count": null,
      "outputs": [
        {
          "output_type": "execute_result",
          "data": {
            "text/plain": [
              "<sqlite3.Cursor at 0x7ff1c6ad10a0>"
            ]
          },
          "metadata": {},
          "execution_count": 70
        }
      ]
    },
    {
      "cell_type": "markdown",
      "source": [
        "Getting the view of the table"
      ],
      "metadata": {
        "id": "vucTN12hKFF9"
      }
    },
    {
      "cell_type": "code",
      "source": [
        "c.execute('SELECT * FROM mid1')\n",
        "for row in c.fetchall():\n",
        "    print (row)"
      ],
      "metadata": {
        "colab": {
          "base_uri": "https://localhost:8080/"
        },
        "id": "RFEl_Lm9CZFg",
        "outputId": "66f7da9d-8447-4beb-fc54-7cd44927ea0f"
      },
      "execution_count": null,
      "outputs": [
        {
          "output_type": "stream",
          "name": "stdout",
          "text": [
            "(13, 13, 14, 17, 18, 20)\n",
            "(13, 15, 16, 0, 17, 19)\n",
            "(15, 14, 18, 18, 16, 10)\n",
            "(16, 9, 19, 16, 9, 20)\n",
            "(14, 17, 10, 17, 7, 18)\n",
            "(20, 20, 19, 18, 6, 19)\n"
          ]
        }
      ]
    },
    {
      "cell_type": "markdown",
      "source": [
        "Calculating the total marks by summing up all the subject's marks"
      ],
      "metadata": {
        "id": "vL0Bvx_kK1Nu"
      }
    },
    {
      "cell_type": "code",
      "source": [
        "c.execute('SELECT ( CS1 + DS + DM + PS + Python + Java) AS Total FROM mid1')\n",
        "for row in c.fetchall():\n",
        "    print (row)"
      ],
      "metadata": {
        "colab": {
          "base_uri": "https://localhost:8080/"
        },
        "id": "4Gb4HLvh_tdc",
        "outputId": "3541e75a-70a2-43d2-fd17-fd6ba4d40ecc"
      },
      "execution_count": null,
      "outputs": [
        {
          "output_type": "stream",
          "name": "stdout",
          "text": [
            "(95,)\n",
            "(80,)\n",
            "(91,)\n",
            "(89,)\n",
            "(83,)\n",
            "(102,)\n"
          ]
        }
      ]
    },
    {
      "cell_type": "markdown",
      "source": [
        "Now we are finding the person who got the maximum marks"
      ],
      "metadata": {
        "id": "U3RvMPT3LX8v"
      }
    },
    {
      "cell_type": "code",
      "source": [
        "c.execute('SELECT MAX(CS1 + DS + DM + PS + Python + Java) FROM mid1')\n",
        "for row in c.fetchall():\n",
        "    print (row)"
      ],
      "metadata": {
        "colab": {
          "base_uri": "https://localhost:8080/"
        },
        "id": "p5fiho7LDCUE",
        "outputId": "f589833c-5af3-41db-ac33-1bec0a032bcd"
      },
      "execution_count": null,
      "outputs": [
        {
          "output_type": "stream",
          "name": "stdout",
          "text": [
            "(102,)\n"
          ]
        }
      ]
    },
    {
      "cell_type": "markdown",
      "source": [
        "As we can see from the output the last roll no got the maximum marks"
      ],
      "metadata": {
        "id": "y0z6oqVtLxYC"
      }
    },
    {
      "cell_type": "markdown",
      "source": [
        ""
      ],
      "metadata": {
        "id": "1Nmn8P5YKakd"
      }
    }
  ]
}